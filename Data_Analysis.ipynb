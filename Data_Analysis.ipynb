{
 "cells": [
  {
   "cell_type": "code",
   "execution_count": 1,
   "metadata": {
    "scrolled": true
   },
   "outputs": [
    {
     "data": {
      "text/html": [
       "        <script type=\"text/javascript\">\n",
       "        window.PlotlyConfig = {MathJaxConfig: 'local'};\n",
       "        if (window.MathJax) {MathJax.Hub.Config({SVG: {font: \"STIX-Web\"}});}\n",
       "        if (typeof require !== 'undefined') {\n",
       "        require.undef(\"plotly\");\n",
       "        requirejs.config({\n",
       "            paths: {\n",
       "                'plotly': ['https://cdn.plot.ly/plotly-latest.min']\n",
       "            }\n",
       "        });\n",
       "        require(['plotly'], function(Plotly) {\n",
       "            window._Plotly = Plotly;\n",
       "        });\n",
       "        }\n",
       "        </script>\n",
       "        "
      ]
     },
     "metadata": {},
     "output_type": "display_data"
    }
   ],
   "source": [
    "import plotly as py\n",
    "import numpy as np\n",
    "import math as m\n",
    "from scipy.odr import *\n",
    "py.offline.init_notebook_mode(connected=True)\n",
    "import plotly.graph_objs as go\n",
    "import sympy as sp"
   ]
  },
  {
   "cell_type": "markdown",
   "metadata": {},
   "source": [
    "# Media"
   ]
  },
  {
   "cell_type": "code",
   "execution_count": 2,
   "metadata": {},
   "outputs": [],
   "source": [
    "def mean(x:list):\n",
    "    return sum(x)/len(x)"
   ]
  },
  {
   "cell_type": "markdown",
   "metadata": {},
   "source": [
    "# Deviazione standard $\\sigma$"
   ]
  },
  {
   "cell_type": "code",
   "execution_count": 3,
   "metadata": {},
   "outputs": [],
   "source": [
    "def std(x:list):\n",
    "    media = mean(x)\n",
    "    return m.sqrt((sum([(i-media)**2 for i in x]))/(len(x)-1))"
   ]
  },
  {
   "cell_type": "markdown",
   "metadata": {},
   "source": [
    "# Deviazione standard della media $\\sigma_{\\bar{x}}$"
   ]
  },
  {
   "cell_type": "code",
   "execution_count": 4,
   "metadata": {},
   "outputs": [],
   "source": [
    "def std_mean(x:list):\n",
    "    media = mean(x)\n",
    "    return m.sqrt((sum([(i-media)**2 for i in x]))/(len(x)-1))/m.sqrt(len(x))"
   ]
  },
  {
   "cell_type": "code",
   "execution_count": null,
   "metadata": {},
   "outputs": [],
   "source": []
  },
  {
   "cell_type": "markdown",
   "metadata": {},
   "source": [
    "# Compatibilità"
   ]
  },
  {
   "cell_type": "code",
   "execution_count": 5,
   "metadata": {
    "scrolled": true
   },
   "outputs": [],
   "source": [
    "def compatibilità(x, errore_x, y, errore_y, docs:bool = False):\n",
    "    \"\"\"Ritorna il valore compatibilità o una stringa a seconda che docs sia False o True; Compatibilità di default\n",
    "    \"\"\"\n",
    "    num = abs(x-y)\n",
    "    den = m.sqrt(errore_x**2 + errore_y**2)\n",
    "    r = num/den\n",
    "    output = \"\"\n",
    "    if r >= 0 and r < 1:\n",
    "        output += f\"Buona, r = {round(r,3)}\\n\"\n",
    "    elif r > 1 and r < 2:\n",
    "        output += f\"Sufficiente r = {round(r,3)}\\n\"\n",
    "    elif r > 2 and r < 3:\n",
    "        output += f\"Scarsa r = {round(r,3)}\\n\"\n",
    "    else:\n",
    "        output += f\"Incompatibilità r = {round(r,3)}\\n\"\n",
    "    if docs:\n",
    "        return output\n",
    "    return r"
   ]
  },
  {
   "cell_type": "code",
   "execution_count": 6,
   "metadata": {
    "scrolled": true
   },
   "outputs": [],
   "source": [
    "def compatibilità_list(x:list, errore_x:list, docs:bool = False):\n",
    "    \"\"\"Ritorna una stringa\n",
    "    \"\"\"\n",
    "    output = \"\"\n",
    "    for i, val1 in enumerate(x):\n",
    "        for j, val2 in enumerate(x):\n",
    "            if i == j or i-j > 0:\n",
    "                pass\n",
    "            else:\n",
    "                output += f\"La compatibilità tra l'elemento {i+1} e {j+1} è:\"\n",
    "                comp = compatibilità(val1,errore_x[i], val2,errore_x[j], True)\n",
    "                output += comp\n",
    "                output += \" \"\n",
    "                print(\"La compatibilità tra l'elemento\", {i+1}, \"e \", {j+1}, \" è:\", comp)\n",
    "    # while i < len(x)-1:\n",
    "    #     output += f\"La compatibilità tra l'elemento {i+1} e {i+2} è: \\n\"\n",
    "    #     output += compatibilità(x[i],errore_x[i], x[i+1],errore_x[i+1])\n",
    "    #     i += 1\n",
    "    # while j < len(x)-2:\n",
    "    #     output += f\"La compatibilità tra l'elemento {j+1} e {j+2} è: \\n\"\n",
    "    #     output += compatibilità(x[j], errore_x[j], x[j+2], errore_x[j+2])\n",
    "    #     j += 1\n",
    "    if docs: \n",
    "        return output"
   ]
  },
  {
   "cell_type": "markdown",
   "metadata": {},
   "source": [
    "\n",
    "# Media Ponderata"
   ]
  },
  {
   "cell_type": "code",
   "execution_count": 7,
   "metadata": {
    "scrolled": true
   },
   "outputs": [],
   "source": [
    "def media_ponderata(x:list, errore_x:list, docs:bool = False):\n",
    "    \"\"\"Ritorna un tuple: media, errore_media, stringa per il documento\n",
    "    \"\"\"\n",
    "    num = 0\n",
    "    den = 0\n",
    "    output = \"\"\n",
    "    for i in range(0,len(x)):\n",
    "        num += x[i]/pow(errore_x[i],2)\n",
    "        den += 1/pow(errore_x[i],2)\n",
    "    media = num/den\n",
    "    errore_media = 1/m.sqrt(den)\n",
    "    if len(x) == 2:\n",
    "        r = compatibilità(x[0],errore_x[0], x[1], errore_x[1])\n",
    "        if r <3 :\n",
    "            output += f\"Poiché c'è compatibilità ne facciamo la media ponderata:\\n\"\n",
    "    output += f\"La media ponderata vale: {media}\\n\"\n",
    "    output += f\"La sue incertezza è: {errore_media}\\n\"\n",
    "    print(\"La media ponderata vale: \", media)\n",
    "    print(\"La sua incertezza è: \", errore_media)\n",
    "    if docs:\n",
    "        return output\n",
    "    return media, errore_media"
   ]
  },
  {
   "cell_type": "markdown",
   "metadata": {},
   "source": [
    "# Coefficiente di Pearson"
   ]
  },
  {
   "cell_type": "code",
   "execution_count": 8,
   "metadata": {
    "scrolled": true
   },
   "outputs": [],
   "source": [
    "def coefficiente_Pearson(x:list, y:list, docs:bool = False):\n",
    "    sum1, sum2, sum_quadro_1, sum_quadro_2 = 0, 0, 0, 0\n",
    "    output = \"\"\n",
    "    for i in range(len(x)):\n",
    "        sum1 += x[i]\n",
    "    media_x = sum1/len(x)\n",
    "    for j in range(len(y)):\n",
    "        sum2 += y[j]\n",
    "    media_y = sum2/len(y)\n",
    "    for k in range(len(x)):\n",
    "        sum_quadro_1 += pow(x[k]-media_x,2) \n",
    "        sum_quadro_2 += pow(y[k]-media_y,2)\n",
    "    numeratore = 0\n",
    "    denominatore = m.sqrt(sum_quadro_1)*m.sqrt(sum_quadro_2)\n",
    "    for l in range(len(x)):\n",
    "        numeratore += (x[l]-media_x)*(y[l]-media_y)\n",
    "    rho = numeratore/denominatore\n",
    "    output += f\"L'indice di correlazione di Pearson vale: $\\rho = $ {rho}\\n\"\n",
    "    print(\"L'indice di correlazione di Pearson vale: rho = \", rho)\n",
    "    if docs:\n",
    "        return output\n",
    "    return rho"
   ]
  },
  {
   "cell_type": "markdown",
   "metadata": {},
   "source": [
    "# Covarianza"
   ]
  },
  {
   "cell_type": "code",
   "execution_count": 9,
   "metadata": {
    "scrolled": true
   },
   "outputs": [],
   "source": [
    "def covarianza(x:list, y:list):\n",
    "    N = len(x)\n",
    "    N_covariance = 0\n",
    "    x_mean = sum(x)/N\n",
    "    y_mean = sum(y)/N\n",
    "    for i in range(N):\n",
    "        N_covariance += (x[i] - x_mean)*(y[i] - y_mean)\n",
    "    return N_covariance/N"
   ]
  },
  {
   "cell_type": "markdown",
   "metadata": {},
   "source": [
    "# INTERPOLAZIONE LINEARE  $y = a + bx $\n"
   ]
  },
  {
   "cell_type": "code",
   "execution_count": 10,
   "metadata": {
    "scrolled": true
   },
   "outputs": [],
   "source": [
    "def interpolazione(y:list, errore_y:list, x:list, errore_x = None, docs:bool = False):\n",
    "    uno_sigma_quadro1, x_su_sigma_quadro1, x_per_y_su_sigma_quadro1, y_su_sigma_quadro1, x_quadro_su_sigma_quadro1 = 0, 0, 0, 0, 0\n",
    "\n",
    "    for i in range (0, len(x)):\n",
    "        uno_sigma_quadro1 += 1/pow(errore_y[i],2)\n",
    "        x_su_sigma_quadro1 += x[i]/pow(errore_y[i],2)    \n",
    "        x_quadro_su_sigma_quadro1  += pow(x[i],2)/pow(errore_y[i],2) \n",
    "        x_per_y_su_sigma_quadro1 += x[i]*y[i]/pow(errore_y[i],2)\n",
    "        y_su_sigma_quadro1 += y[i]/pow(errore_y[i],2)\n",
    "\n",
    "    delta = uno_sigma_quadro1*x_quadro_su_sigma_quadro1-pow(x_su_sigma_quadro1,2)\n",
    "    b = 1/delta * (uno_sigma_quadro1*x_per_y_su_sigma_quadro1 - x_su_sigma_quadro1*y_su_sigma_quadro1)\n",
    "    a = 1/delta * (x_quadro_su_sigma_quadro1*y_su_sigma_quadro1 - x_su_sigma_quadro1*x_per_y_su_sigma_quadro1)\n",
    "    output = \"\"\n",
    "    print(\"Il coefficiente angolare 'b' vale: \", b)\n",
    "    errore_b = m.sqrt(1/delta * uno_sigma_quadro1)\n",
    "    print(\"L'incertezza sul coefficiente angolare vale: \", errore_b)\n",
    "    errore_a = m.sqrt(1/delta * x_quadro_su_sigma_quadro1)\n",
    "    print(\"L'intercetta 'a' della retta vale: \", a)\n",
    "    print(\"L'incertezza sull'intercetta vale: \", errore_a)\n",
    "    output += f\"Il coefficiente angolare 'b' vale: {b}\\n\"\n",
    "    output += f\"L'incertezza sul coefficiente angolare vale:: {errore_b}\\n\"\n",
    "    output += f\"IL'intercetta 'a' della retta vale: {a}\\n\"\n",
    "    output += f\"L'incertezza sull'intercetta vale: {errore_a}\\n\"\n",
    "    if docs:\n",
    "        return output\n",
    "    return b, errore_b, a, errore_a"
   ]
  },
  {
   "cell_type": "code",
   "execution_count": 11,
   "metadata": {
    "scrolled": true
   },
   "outputs": [],
   "source": [
    "def interpolazione_no_errore(x:list, y:list, errore_y, docs:bool = False):\n",
    "    N = len(y)\n",
    "    x_quadri, x_singoli, y_singoli, x_per_y = 0, 0, 0, 0\n",
    "    for i in range (0,len(y)):\n",
    "        x_quadri += pow(x[i],2)\n",
    "        x_singoli += x[i]\n",
    "        y_singoli += y[i]\n",
    "        x_per_y += y[i]*x[i]\n",
    "\n",
    "    delta = N*x_quadri -pow(x_singoli,2)\n",
    "    a = (x_quadri*y_singoli-x_singoli*x_per_y)/delta\n",
    "    b = (N*x_per_y-x_singoli*y_singoli)/delta\n",
    "    errore_a = errore_y*m.sqrt(x_quadri/delta)\n",
    "    errore_b = errore_y*m.sqrt(N/delta)\n",
    "    print(\"Questo è a, l'intercetta della retta: \", a,\"\\nQuesto il suo errore:\", errore_a, \"\\nQuesto è b, il coefficiente angolare\", b, \"\\nQuesto il suo errore:\", errore_b)\n",
    "    output = \"\"\n",
    "    output += f\"Questo è a, l'intercetta della retta: {a}\\nQuesto il suo errore: {errore_a} \\nQuesto è b, il coefficiente angolare {b} \\nQuesto il suo errore: {errore_b}\"\n",
    "    if docs:\n",
    "        return output\n",
    "    return (b, errore_b, a, errore_a)"
   ]
  },
  {
   "cell_type": "markdown",
   "metadata": {},
   "source": [
    "\n",
    "# Grafico"
   ]
  },
  {
   "cell_type": "code",
   "execution_count": 12,
   "metadata": {
    "scrolled": true
   },
   "outputs": [],
   "source": [
    "def grafico(b, a, y, errore_y, x, errore_x = None):\n",
    "    \n",
    "    layout = go.Layout(\n",
    "        title= \"\",\n",
    "        yaxis=dict(\n",
    "                title = \"y\"\n",
    "        ),\n",
    "        xaxis=dict(\n",
    "            title= \"x\",\n",
    "        )\n",
    "    )\n",
    "    traccia = go.Scatter(\n",
    "        x = x,\n",
    "        y= y,\n",
    "        mode='markers',\n",
    "        name= \"Traccia\",\n",
    "        showlegend=True,\n",
    "       # line = dict(\n",
    "        #    shape='spline'\n",
    "       # ),\n",
    "        error_y=dict(\n",
    "                type='data',\n",
    "                array = errore_y,\n",
    "        ),\n",
    "        error_x=dict(\n",
    "                type='data',\n",
    "                array = errore_x,\n",
    "        ),\n",
    "    )\n",
    "#     traccia2 = go.Scatter(\n",
    "#         x = raggi_quadro2,\n",
    "#         y= velocità2,\n",
    "#         mode='markers',\n",
    "#         name='$v_i, i \\in [1,9]$',\n",
    "#         showlegend=True,\n",
    "#        # line = dict(\n",
    "#         #    shape='spline'\n",
    "#        # )\n",
    "\n",
    "#             error_y=dict(\n",
    "#                 type='data',\n",
    "#                 array = errore_velocità2,\n",
    "#             )\n",
    "#     )\n",
    "    t = np.linspace(0., max(x), 1000)\n",
    "    lalla = a + b*t\n",
    "    if a >= 0:\n",
    "        retta = go.Scatter(\n",
    "            x = t,\n",
    "            y = lalla,\n",
    "            mode = 'lines',\n",
    "            name = \"Retta\"\n",
    "            #name = '$y = (25.594x - 0.02081) cm/s $',\n",
    "    #             line = dict(\n",
    "    #             shape='spline',\n",
    "    #             color = 'orange'\n",
    "    #        )  \n",
    "        )\n",
    "    else:\n",
    "        retta = go.Scatter(\n",
    "            x = t,\n",
    "            y = lalla,\n",
    "            mode = 'lines',\n",
    "            name = \"Retta\"\n",
    "            #name = '$y = (25.594x - 0.02081) cm/s $',\n",
    "    #             line = dict(\n",
    "    #             shape='spline',\n",
    "    #             color = 'orange'\n",
    "    #        )  \n",
    "        )\n",
    "    fig = go.Figure(data=[traccia, retta], layout = layout)\n",
    "    py.offline.iplot(fig)"
   ]
  },
  {
   "cell_type": "code",
   "execution_count": 13,
   "metadata": {
    "scrolled": true
   },
   "outputs": [],
   "source": [
    "def grafico_relazione(b, a, y, errore_y, x, errore_x = None):\n",
    "    \n",
    "    layout = go.Layout(\n",
    "        title= str(input(\"Inserisci il nome del grafico \") ),\n",
    "        yaxis=dict(\n",
    "                title = str(\"$\"+str(input(\"Inserisci il titolo dell'asse y \") ) + \" [\" + str(input(\"Inserisci l'unità di misura \")) + \"]\" + \"$\")\n",
    "        ),\n",
    "        xaxis=dict(\n",
    "            title= str(\"$\" + str(input(\"Inserisci il titolo dell'asse x \") ) + \" [\" +str(input(\"Inserisci l'unità di misura \")) + \"]\" +\"$\"),\n",
    "        )\n",
    "    )\n",
    "    i = int(input(\"Scegli di quanto vuoi arrotondare b: \") )\n",
    "    j = int(input(\"Scegli di quanto vuoi arrotondare a: \") )\n",
    "    traccia = go.Scatter(\n",
    "        x = x,\n",
    "        y= y,\n",
    "        mode='markers',\n",
    "        name= \"$\" + str(input(\"Inserisci la legenda \") ) +\"$\",\n",
    "        showlegend=True,\n",
    "       # line = dict(\n",
    "        #    shape='spline'\n",
    "       # ),\n",
    "        error_y=dict(\n",
    "                type='data',\n",
    "                array = errore_y,\n",
    "        ),\n",
    "        error_x=dict(\n",
    "                type='data',\n",
    "                array = errore_x,\n",
    "        ),\n",
    "    )\n",
    "#     traccia2 = go.Scatter(\n",
    "#         x = raggi_quadro2,\n",
    "#         y= velocità2,\n",
    "#         mode='markers',\n",
    "#         name='$v_i, i \\in [1,9]$',\n",
    "#         showlegend=True,\n",
    "#        # line = dict(\n",
    "#         #    shape='spline'\n",
    "#        # )\n",
    "\n",
    "#             error_y=dict(\n",
    "#                 type='data',\n",
    "#                 array = errore_velocità2,\n",
    "#             )\n",
    "#     )\n",
    "    t = np.linspace(0., max(x), 1000)\n",
    "    lalla = a + b*t\n",
    "    if a >= 0:\n",
    "        retta = go.Scatter(\n",
    "            x = t,\n",
    "            y = lalla,\n",
    "            mode = 'lines',\n",
    "            name = str(\"$y = \" + \"(\" + str(round(b,i))+ \"x +\" + str(round(a,j))+ \")\" + str(input(\"Inserisci l'unità di misura \")) +\"$\" )\n",
    "            #name = '$y = (25.594x - 0.02081) cm/s $',\n",
    "    #             line = dict(\n",
    "    #             shape='spline',\n",
    "    #             color = 'orange'\n",
    "    #        )  \n",
    "        )\n",
    "    else:\n",
    "        retta = go.Scatter(\n",
    "            x = t,\n",
    "            y = lalla,\n",
    "            mode = 'lines',\n",
    "            name = str(\"$y = \" + \"(\"+str(round(b,i))+ \"x\" + str(round(a,j)) +\")\" + str(input(\"Inserisci l'unità di misura \")) +\"$\")\n",
    "            #name = '$y = (25.594x - 0.02081) cm/s $',\n",
    "    #             line = dict(\n",
    "    #             shape='spline',\n",
    "    #             color = 'orange'\n",
    "    #        )  \n",
    "        )\n",
    "    fig = go.Figure(data=[traccia, retta], layout = layout)\n",
    "    py.offline.iplot(fig)"
   ]
  },
  {
   "cell_type": "code",
   "execution_count": null,
   "metadata": {
    "scrolled": true
   },
   "outputs": [],
   "source": []
  },
  {
   "cell_type": "code",
   "execution_count": 14,
   "metadata": {
    "scrolled": true
   },
   "outputs": [],
   "source": [
    "#z = interpolazione(velocità2, errore_velocità2, raggi_quadro2, None)"
   ]
  },
  {
   "cell_type": "code",
   "execution_count": 15,
   "metadata": {
    "scrolled": true
   },
   "outputs": [],
   "source": [
    "#grafico(z[0], z[2], velocità2, errore_velocità2, raggi_quadro2)"
   ]
  },
  {
   "cell_type": "code",
   "execution_count": 16,
   "metadata": {
    "scrolled": true
   },
   "outputs": [],
   "source": [
    "def chi_square(b, a, y:list, errore_y:list, x:list, docs:bool = False):\n",
    "    #vincoli = N-2 -- caso interpolazione\n",
    "    chi_quadro = 0\n",
    "    output = \"\"\n",
    "    for i in range(0,len(x)):\n",
    "        chi_quadro += pow((y[i]-(b*x[i]+a)),2)/pow(errore_y[i],2)\n",
    "    print(\"Il chi quadro vale:\", chi_quadro)\n",
    "    print(\"Il numero di DOF nel caso di 2 vincoli è: \", len(y)-2)\n",
    "    output += f\"Il chi quadro vale: {chi_quadro}\"\n",
    "    output += f\"Il numero di DOF nel caso di 2 vincoli è: {len(y)-2}\"\n",
    "    if docs:\n",
    "        return output\n",
    "    return chi_quadro\n",
    "\n",
    "\n",
    "def chi_squared_2(y, sigma_y ,x, a, b, c):\n",
    "    chi_quadro = 0\n",
    "    for i in range(len(y)):\n",
    "        chi_quadro += ((y[i] - (a*x[i]**2 + b*x[i] +c))/sigma_y[i])**2\n",
    "    print(\"Con D.O.F = \", len(y) - 3)\n",
    "    return chi_quadro"
   ]
  },
  {
   "cell_type": "code",
   "execution_count": 17,
   "metadata": {
    "scrolled": true
   },
   "outputs": [],
   "source": [
    "def errore_posteriori(b, a, y:list, x:list, docs:bool = False):\n",
    "    somma = 0\n",
    "    output = \"\"\n",
    "    for i in range(0, len(y)):\n",
    "        somma += pow(a+b*x[i]-y[i],2)\n",
    "    errore_a_posteriori = somma/(len(y)-2)\n",
    "    print(\"L'errore a posteriori dell'interpolazione vale: \", errore_a_posteriori)\n",
    "    output += f\"L'errore a posteriori dell'interpolazione vale: {errore_a_posteriori}\"\n",
    "    if docs:\n",
    "        return output\n",
    "    return errore_a_posteriori"
   ]
  },
  {
   "cell_type": "code",
   "execution_count": 18,
   "metadata": {
    "scrolled": true
   },
   "outputs": [],
   "source": [
    "def t_Student(rho, N):\n",
    "    errore_rho = m.sqrt((1-rho**2)/(N-2))\n",
    "    t = rho/errore_rho\n",
    "    print(\"La variabile di Student vale t =\", t, \"con \", N-2, \"gradi di libertà\")"
   ]
  },
  {
   "cell_type": "markdown",
   "metadata": {},
   "source": [
    "# Andamento temporale"
   ]
  },
  {
   "cell_type": "code",
   "execution_count": 19,
   "metadata": {
    "scrolled": true
   },
   "outputs": [],
   "source": [
    "def andamento_temporale_relazione(b, a, y:list, errore_y, x:list, x_axis_name = \"Occorrenze\" ,colore = \"#EF553B\"):\n",
    "    scarti = []\n",
    "    #vincoli = N-2 == 9\n",
    "    for i in range(0,len(y)):\n",
    "        scarti.append((y[i]-(b*x[i]+a))/errore_y[i])\n",
    "    layout = go.Layout(\n",
    "        title= \"\",\n",
    "        yaxis=dict(\n",
    "                title = 'Scarti'\n",
    "        ),\n",
    "        xaxis=dict(\n",
    "            title= str(\"$\" + x_axis_name + \"$\")\n",
    "        )\n",
    "    )\n",
    "    l = np.linspace(0,99,100)\n",
    "    traccia = go.Scatter(\n",
    "        x = l,\n",
    "        y = scarti,\n",
    "        mode = 'lines',\n",
    "        name = 'Scarti',\n",
    "        #y = 7.98x -1.1\n",
    "        line = dict(\n",
    "        #shape='spline',\n",
    "#         color = str(input(\"Inserisci un colore (default #EF553B): \"))\n",
    "        color = str(colore)\n",
    "                   ),\n",
    "        )\n",
    "#     print(traccia)   \n",
    "#     print(type(traccia))\n",
    "    l1 = np.linspace(0., len(y), 1000)\n",
    "    retta = go.Scatter(\n",
    "        x = l1,\n",
    "        y = [0]*len(l1),\n",
    "        mode = 'lines',\n",
    "        name = \"$y = 0$\",\n",
    "        line = dict(\n",
    "            shape='spline',\n",
    "            color = 'firebrick',\n",
    "            width=5\n",
    "            )\n",
    "        )\n",
    "   \n",
    "    #fig = go.Figure(data=[traccia1, traccia2, traccia3, traccia4, traccia5, traccia6, traccia7, traccia8, traccia9, retta], layout = layout)\n",
    "    fig = go.Figure(data=[traccia, retta], layout=layout)\n",
    "    fig.show()"
   ]
  },
  {
   "cell_type": "code",
   "execution_count": 20,
   "metadata": {
    "scrolled": true
   },
   "outputs": [],
   "source": [
    "def andamento_temporale(b, a, y:list, errore_y:list, x:list):\n",
    "    scarti = []\n",
    "    #vincoli = N-2 == 9\n",
    "    for i in range(0,len(y)):\n",
    "        scarti.append((y[i]-(b*x[i]+a))/errore_y[i])\n",
    "    layout = go.Layout(\n",
    "        title= \"\",\n",
    "        yaxis=dict(\n",
    "                title = 'Scarti'\n",
    "        ),\n",
    "        xaxis=dict(\n",
    "            title= \"x\"\n",
    "        )\n",
    "    )\n",
    "    l = np.linspace(0,99,100)\n",
    "    traccia = go.Scatter(\n",
    "        x = l,\n",
    "        y = scarti,\n",
    "        mode = 'lines',\n",
    "        name = 'Scarti',\n",
    "        #y = 7.98x -1.1\n",
    "        line = dict(\n",
    "        #shape='spline',\n",
    "        color = '#EF553B'\n",
    "                   ),\n",
    "        )\n",
    "    l1 = np.linspace(0., len(y), 1000)\n",
    "    retta = go.Scatter(\n",
    "        x = l1,\n",
    "        y = [0]*len(l1),\n",
    "        mode = 'lines',\n",
    "        name = \"$y = 0$\",\n",
    "        line = dict(\n",
    "            shape='spline',\n",
    "            color = 'firebrick',\n",
    "            width=5\n",
    "            )\n",
    "        )\n",
    "    fig = go.Figure(data=[traccia, retta], layout=layout)\n",
    "    fig.show()"
   ]
  },
  {
   "cell_type": "code",
   "execution_count": 21,
   "metadata": {
    "scrolled": true
   },
   "outputs": [],
   "source": [
    "def traccia(y, errore_y, x, errore_x = None, modo = 'markers'):\n",
    "    #l = np.linspace(0,99,100)\n",
    "    traccia1 = go.Scatter(\n",
    "        x = x,\n",
    "        y = y,\n",
    "        mode = str(modo),\n",
    "        name= \"$x_i$\",\n",
    "        showlegend=True,\n",
    "        error_y=dict(\n",
    "                type='data',\n",
    "                array = errore_y,\n",
    "        ),\n",
    "        error_x=dict(\n",
    "                type='data',\n",
    "                array = errore_x,\n",
    "        ),\n",
    "    )\n",
    "    return traccia1\n",
    "\n",
    "def retta(b, a, y, errore_y, x, errore_x = None):\n",
    "    t_max, t_min = max(x), min(x)\n",
    "    t = np.linspace(t_min, t_max, 10000) \n",
    "    lalla = a + b*t\n",
    "    retta1 = go.Scatter(\n",
    "        x = t,\n",
    "        y = lalla,\n",
    "        mode = 'lines',\n",
    "        name = \"Retta\"\n",
    "        #name = '$y = (25.594x - 0.02081) cm/s $',\n",
    "#             line = dict(\n",
    "#             shape='spline',\n",
    "#             color = 'orange'\n",
    "#        )  \n",
    "    )\n",
    "\n",
    "    return retta1\n",
    "\n",
    "def retta_verticale(y, x, length = None):\n",
    "    j = np.linspace(min(y), max(y), 10000)\n",
    "    if x != list(x):\n",
    "        t = [x]*length\n",
    "    else: \n",
    "        t = x\n",
    "    retta1 = go.Scatter(\n",
    "        x = t,\n",
    "        y = j,\n",
    "        mode = 'lines',\n",
    "        name = \"Retta\"\n",
    "        #name = '$y = (25.594x - 0.02081) cm/s $',\n",
    "#             line = dict(\n",
    "#             shape='spline',\n",
    "#             color = 'orange'\n",
    "#        )  \n",
    "    )\n",
    "    return retta1\n",
    "\n",
    "\n",
    "def parabola(a, b, c, y, x):\n",
    "    t_max, t_min = max(x), min(x)\n",
    "    t = np.linspace(t_min, t_max, 1000) \n",
    "    lalla = a*t**2 + b*t + c\n",
    "    retta1 = go.Scatter(\n",
    "        x = t,\n",
    "        y = lalla,\n",
    "        mode = 'lines',\n",
    "        name = \"Parabola\"\n",
    "        #name = '$y = (25.594x - 0.02081) cm/s $',\n",
    "#             line = dict(\n",
    "#             shape='spline',\n",
    "#             color = 'orange'\n",
    "#        )  \n",
    "    )\n",
    "\n",
    "    return retta1\n",
    "\n",
    "def cubica(a, b, c, d, y, x):\n",
    "    t_max, t_min = max(x), min(x)\n",
    "    t = np.linspace(t_min, t_max, 1000) \n",
    "    lalla = a*t**3 + b*t**2 + c*t + d\n",
    "    retta1 = go.Scatter(\n",
    "        x = t,\n",
    "        y = lalla,\n",
    "        mode = 'lines',\n",
    "        name = \"Cubica\"\n",
    "        #name = '$y = (25.594x - 0.02081) cm/s $',\n",
    "#             line = dict(\n",
    "#             shape='spline',\n",
    "#             color = 'orange'\n",
    "#        )  \n",
    "    )\n",
    "\n",
    "    return retta1\n",
    "\n",
    "\n",
    "def quadrata(a, b, c, d, e, y, x):\n",
    "    t_max, t_min = max(x), min(x)\n",
    "    t = np.linspace(t_min, t_max, 1000) \n",
    "    lalla = a*t**4 + b*t**3 + c*t**2 + d*t + e\n",
    "    retta1 = go.Scatter(\n",
    "        x = t,\n",
    "        y = lalla,\n",
    "        mode = 'lines',\n",
    "        name = \"Quadrata\"\n",
    "        #name = '$y = (25.594x - 0.02081) cm/s $',\n",
    "#             line = dict(\n",
    "#             shape='spline',\n",
    "#             color = 'orange'\n",
    "#        )  \n",
    "    )\n",
    "\n",
    "    return retta1\n",
    "\n",
    "\n",
    "def Layout():\n",
    "    layout = go.Layout(\n",
    "        title= \"\",\n",
    "        yaxis=dict(\n",
    "                title = \"\"\n",
    "        ),\n",
    "        xaxis=dict(\n",
    "            title= \"\",\n",
    "        )\n",
    "    )\n",
    "    return layout\n",
    "    "
   ]
  },
  {
   "cell_type": "code",
   "execution_count": null,
   "metadata": {},
   "outputs": [],
   "source": []
  },
  {
   "cell_type": "code",
   "execution_count": 22,
   "metadata": {
    "scrolled": true
   },
   "outputs": [],
   "source": [
    "def traccia_relazione(y, errore_y, x, errore_x = None, modo = 'markers'):\n",
    "    #l = np.linspace(0,99,100)\n",
    "    traccia1 = go.Scatter(\n",
    "        x = x,\n",
    "        y = y,\n",
    "        mode = str(modo),\n",
    "        name= \"$\" + str(input(\"Inserisci la legenda della traccia \") ) +\"$\",\n",
    "#          name= str(input(\"Inserisci la legenda della traccia \") ) ,\n",
    "        showlegend=True,\n",
    "        error_y=dict(\n",
    "                type='data',\n",
    "                array = errore_y,\n",
    "        ),\n",
    "        error_x=dict(\n",
    "                type='data',\n",
    "                array = errore_x,\n",
    "        ),\n",
    "    )\n",
    "    return traccia1\n",
    "\n",
    "def retta_relazione(b:float, a:float, y, errore_y, x, errore_x = None):\n",
    "#     i = int(input(\"Scegli di quanto vuoi arrotondare b: \") )\n",
    "#     j = int(input(\"Scegli di quanto vuoi arrotondare a: \") )\n",
    "    t_max, t_min = max(x), min(x)\n",
    "    t = np.linspace(t_min, t_max, 1000) \n",
    "    lalla = a + b*t\n",
    "    if a >= 0:\n",
    "        retta1 = go.Scatter(\n",
    "            x = t,\n",
    "            y = lalla,\n",
    "            mode = 'lines',\n",
    "            name = str(\"$y = \" + \"(\"+str(b)+ \"x +\" + str(a) +\")\" + str( input(\"Inserisci l'unità di misura della legenda: \"))+\"$\")\n",
    "            #name = '$y = (25.594x - 0.02081) cm/s $',\n",
    "    #             line = dict(\n",
    "    #             shape='spline',\n",
    "    #             color = 'orange'\n",
    "    #        )  \n",
    "        )\n",
    "    else:\n",
    "        retta1 = go.Scatter(\n",
    "            x = t,\n",
    "            y = lalla,\n",
    "            mode = 'lines',\n",
    "            name = str(\"$y = \" + \"(\"+str(b)+ \"x\" + str(a) +\")\" + str( input(\"Inserisci l'unità di misura della legenda: \"))+\"$\")\n",
    "            #name = '$y = (25.594x - 0.02081) cm/s $',\n",
    "    #             line = dict(\n",
    "    #             shape='spline',\n",
    "    #             color = 'orange'\n",
    "    #        )  \n",
    "        )\n",
    "    return retta1\n",
    "\n",
    "def Layout_relazione():\n",
    "    layout = go.Layout(\n",
    "        title= str(input(\"Inserisci il nome del grafico \") ),\n",
    "        yaxis=dict(\n",
    "                title = str(\"$\"+str(input(\"Inserisci il titolo dell'asse y \") ) + \" [\" +str(input(\"Inserisci l'unità di misura \")+ \"]\" + \"$\"))\n",
    "        ),\n",
    "        xaxis=dict(\n",
    "            title= str(\"$\" + str(input(\"Inserisci il titolo dell'asse x \") ) + \" [\" +str(input(\"Inserisci l'unità di misura \"))+ \"]\" +\"$\"),\n",
    "        )\n",
    "    )\n",
    "    return layout\n",
    "    \n",
    "def Layout_relazione_no_units():\n",
    "    layout = go.Layout(\n",
    "        title= str(input(\"Inserisci il nome del grafico \") ),\n",
    "        yaxis=dict(\n",
    "#                 title = str(\"$\"+str(input(\"Inserisci il titolo dell'asse y \") ) + \" [\" +str(input(\"Inserisci l'unità di misura \")+ \"]\" + \"$\"))\n",
    "                title = str(\"$\"+str(input(\"Inserisci il titolo dell'asse y \") ) + \"$\")\n",
    "        ),\n",
    "        xaxis=dict(\n",
    "            title= str(\"$\" + str(input(\"Inserisci il titolo dell'asse x \") ) + \"$\"),\n",
    "        )\n",
    "    )\n",
    "    return layout\n",
    "    "
   ]
  },
  {
   "cell_type": "code",
   "execution_count": 23,
   "metadata": {
    "scrolled": true
   },
   "outputs": [],
   "source": [
    "def Grafico(x:list, layout, log_x = False):\n",
    "    fig = go.Figure(data=x, layout=layout)\n",
    "#     fig.show()\n",
    "    if log_x:\n",
    "        fig.update_xaxes(type=\"log\")\n",
    "    fig.show()"
   ]
  },
  {
   "cell_type": "markdown",
   "metadata": {},
   "source": [
    "# Fit Lineare"
   ]
  },
  {
   "cell_type": "markdown",
   "metadata": {},
   "source": [
    "# $y = bx + a$"
   ]
  },
  {
   "cell_type": "code",
   "execution_count": 24,
   "metadata": {},
   "outputs": [],
   "source": [
    "def f(B, x):\n",
    "    '''Linear function y = m*x + b'''\n",
    "    # B is a vector of the parameters.\n",
    "    # x is an array of the current x values.\n",
    "    # x is in the same format as the x passed to Data or RealData.\n",
    "    #\n",
    "    # Return an array in the same format as y passed to Data or RealData.\n",
    "    return B[0]*x + B[1]\n",
    "def linear_fit(x, y, sigma_x, sigma_y, b, a):\n",
    "    mydata = RealData(x, y, sx=sigma_x, sy=sigma_y)\n",
    "    linear = Model(f)\n",
    "    myodr = ODR(mydata, linear, beta0=[b, a])\n",
    "    myoutput = myodr.run()\n",
    "    myoutput.pprint()\n",
    "    covariana_matrice = np.sqrt(np.diag(myoutput.cov_beta))\n",
    "    return myoutput.beta[0], covariana_matrice[0], myoutput.beta[1], covariana_matrice[1]\n"
   ]
  },
  {
   "cell_type": "markdown",
   "metadata": {},
   "source": [
    "# $y = bx $ : $a \\equiv 0$"
   ]
  },
  {
   "cell_type": "code",
   "execution_count": 25,
   "metadata": {},
   "outputs": [],
   "source": [
    "def f_1(B, x):\n",
    "    '''Linear function y = m*x + b'''\n",
    "    # B is a vector of the parameters.\n",
    "    # x is an array of the current x values.\n",
    "    # x is in the same format as the x passed to Data or RealData.\n",
    "    #\n",
    "    # Return an array in the same format as y passed to Data or RealData.\n",
    "    return B[0]*x\n",
    "def linear_fit(x, y, sigma_x, sigma_y, b):\n",
    "    mydata = RealData(x, y, sx=sigma_x, sy=sigma_y)\n",
    "    linear = Model(f_1)\n",
    "    myodr = ODR(mydata, linear, beta0=[b])\n",
    "    myoutput = myodr.run()\n",
    "    myoutput.pprint()\n",
    "    covariana_matrice = np.sqrt(np.diag(myoutput.cov_beta))\n",
    "    return myoutput.beta, covariana_matrice"
   ]
  },
  {
   "cell_type": "markdown",
   "metadata": {},
   "source": [
    "# Fit Parabolico"
   ]
  },
  {
   "cell_type": "markdown",
   "metadata": {},
   "source": [
    "# $y = ax^2 + bx + c$"
   ]
  },
  {
   "cell_type": "code",
   "execution_count": 26,
   "metadata": {},
   "outputs": [],
   "source": [
    "def g(B, x):\n",
    "    '''quadratic function y = a*x**2 + b*x + c'''\n",
    "    # B is a vector of the parameters.\n",
    "    # x is an array of the current x values.\n",
    "    # x is in the same format as the x passed to Data or RealData.\n",
    "    #\n",
    "    # Return an array in the same format as y passed to Data or RealData.\n",
    "    return B[0]*x**2 + B[1]*x + B[2]\n",
    "def parabolic_fit(x, y, sigma_x, sigma_y, a, b, c):\n",
    "    mydata = RealData(x, y, sx=sigma_x, sy=sigma_y)\n",
    "    quadratic = Model(g)\n",
    "    myodr = ODR(mydata, quadratic, beta0=[a, b, c])\n",
    "    myoutput = myodr.run()\n",
    "    myoutput.pprint()\n",
    "    covariana_matrice = myoutput.cov_beta\n",
    "    sigma_diagonale = np.sqrt(np.diag(myoutput.cov_beta))\n",
    "#     return myoutput.beta[0], myoutput.sd_beta[0], myoutput.beta[1], myoutput.sd_beta[1], myoutput.beta[2], myoutput.sd_beta[2]\n",
    "    return myoutput.beta[0], sigma_diagonale[0], myoutput.beta[1], sigma_diagonale[1], myoutput.beta[2], sigma_diagonale[2], covariana_matrice[0][1]\n",
    "    "
   ]
  },
  {
   "cell_type": "code",
   "execution_count": 27,
   "metadata": {},
   "outputs": [],
   "source": [
    "def max_quadratic(a, b, c):\n",
    "    x_max = -b/(2*a)\n",
    "    y_max = a*x_max**2 + b*x_max +c\n",
    "    return (y_max, x_max)"
   ]
  },
  {
   "cell_type": "code",
   "execution_count": 28,
   "metadata": {},
   "outputs": [],
   "source": [
    "def sigma_max_quadratic(a, sigma_a, b, sigma_b, c, sigma_c, covarianza_a_b):\n",
    "    sigma_x = m.sqrt(((-b/(2*a))**2)*((sigma_a/a)**2 + (sigma_b/b)**2) - 2*b/(4*a**3)*covarianza_a_b)\n",
    "    sigma_y = 0 # ToDo\n",
    "#     var_x = (((-b/(2*a))**2)*((sigma_a/a)**2 + (sigma_b/b)**2) - 2*b/(4*a**3)*covarianza_a_b)\n",
    "    return sigma_y, sigma_x"
   ]
  },
  {
   "cell_type": "code",
   "execution_count": null,
   "metadata": {},
   "outputs": [],
   "source": []
  },
  {
   "cell_type": "markdown",
   "metadata": {},
   "source": [
    "# Fit Polinomiale"
   ]
  },
  {
   "cell_type": "code",
   "execution_count": 29,
   "metadata": {},
   "outputs": [],
   "source": [
    "def polinomial_fit(x, y, sigma_x, sigma_y, parametri, g):\n",
    "    mydata = RealData(x, y, sx=sigma_x, sy=sigma_y)\n",
    "    quadratic = Model(g)\n",
    "    myodr = ODR(mydata, quadratic, beta0=parametri)\n",
    "    myoutput = myodr.run()\n",
    "    myoutput.pprint()\n",
    "    return myoutput.beta, np.sqrt(np.diag(myoutput.cov_beta))"
   ]
  },
  {
   "cell_type": "code",
   "execution_count": 30,
   "metadata": {},
   "outputs": [],
   "source": [
    "# def max_polinomial():\n",
    "#     pass"
   ]
  },
  {
   "cell_type": "code",
   "execution_count": 31,
   "metadata": {},
   "outputs": [],
   "source": [
    "from sympy import *\n",
    "def sigma_max_polinomial(parametro1, sigma_parametro1, parametro2, sigma_parametro2, parametro3, sigma_parametro3, parametro4, sigma_parametro4, covarianza_matrice):\n",
    "    x, a, b, c, d = sp.symbols('x, a, b, c, d', real=True) \n",
    "    q = d/a -(b*c)/(3*a**2) + (2*b**3)/(27*a**3)\n",
    "    p = c/a - (b**2)/(3*a**2)\n",
    "    x = -b/(3*a) + (-(d/a -(b*c)/(3*a**2) + (2*b**3)/(27*a**3))/2 + ((((d/a -(b*c)/(3*a**2) + (2*b**3)/(27*a**3))**2)/4 + (c/a - (b**2)/(3*a**2))**3/27))**(1/2))**(1/3) + (-(d/a -(b*c)/(3*a**2) + (2*b**3)/(27*a**3))/2 - ((((d/a -(b*c)/(3*a**2) + (2*b**3)/(27*a**3))**2)/4 + (c/a - (b**2)/(3*a**2))**3/27))**(0.5))**(1/3)\n",
    "    x_prime_a = x.diff(a)\n",
    "    x_prime_b = x.diff(b)\n",
    "    x_prime_c = x.diff(c)\n",
    "    x_prime_d = x.diff(d)\n",
    "    x_prime_a_value = x_prime_a.subs([(a, parametro1), (b, parametro2), (c, parametro3), (d, parametro4)])\n",
    "    x_prime_b_value = x_prime_b.subs([(a, parametro1), (b, parametro2), (c, parametro3), (d, parametro4)])\n",
    "    x_prime_c_value = x_prime_c.subs([(a, parametro1), (b, parametro2), (c, parametro3), (d, parametro4)])\n",
    "    x_prime_d_value = x_prime_d.subs([(a, parametro1), (b, parametro2), (c, parametro3), (d, parametro4)])\n",
    "    \n",
    "    var_x = 0\n",
    "    \n",
    "    var_x += ((x_prime_a_value)*sigma_parametro1)**2\n",
    "    var_x += ((x_prime_b_value)*sigma_parametro2)**2\n",
    "    var_x += ((x_prime_c_value)*sigma_parametro3)**2\n",
    "    var_x += ((x_prime_d_value)*sigma_parametro4)**2\n",
    "    var_x += 2*x_prime_a_value*x_prime_b_value*covarianza_matrice[0][1]\n",
    "    var_x += 2*x_prime_a_value*x_prime_c_value*covarianza_matrice[0][2]\n",
    "    var_x += 2*x_prime_a_value*x_prime_d_value*covarianza_matrice[0][3]\n",
    "    var_x += 2*x_prime_b_value*x_prime_c_value*covarianza_matrice[1][2]\n",
    "    var_x += 2*x_prime_b_value*x_prime_d_value*covarianza_matrice[1][3]\n",
    "    var_x += 2*x_prime_c_value*x_prime_d_value*covarianza_matrice[2][3]\n",
    "#     print(\"La varianza complessa vale:\", N(var_x))\n",
    "    sigma_x = var_x**(0.5)\n",
    "#     print(\"La deviazione standard complessa vale:\", N(sigma_x))\n",
    "    return N((re(sigma_x)**2 + im(sigma_x)**2)**(0.5))"
   ]
  },
  {
   "cell_type": "code",
   "execution_count": null,
   "metadata": {},
   "outputs": [],
   "source": []
  },
  {
   "cell_type": "markdown",
   "metadata": {},
   "source": [
    "# Ricerca del minimo/massimo di un fit parabolico"
   ]
  },
  {
   "cell_type": "code",
   "execution_count": 32,
   "metadata": {},
   "outputs": [],
   "source": [
    "def ricerca_minimo(y, sigma_y, x): \n",
    "    #Nota Bene: le derivate vengono calcolate per n-2 punti, quindi gliene servono almeno 5 in entrata (ma gli estremi non sono considerati). \n",
    "    #Funziona per interpolazione della derivata, per cui se la relazione non è parabolica dà risultati approssimati\n",
    "    d=[]\n",
    "    d_x=[]\n",
    "    h=(x[1]-x[0]) \n",
    "    sigma_d=2**0.5*sigma_y/h\n",
    "\n",
    "    for i in range(1,len(y)-1):\n",
    "        \n",
    "        this_d=(y[i+1]-y[i-1])/h  #Calcolo delle derivate con il metodo delle differenze finite\n",
    "        d.append(this_d)\n",
    "        d_x.append(x[i])\n",
    "        \n",
    "    N = len(d)\n",
    "    x_quadri, x_singoli, d_singoli, x_per_d = 0, 0, 0, 0\n",
    "    for i in range (0,len(d)):\n",
    "        x_quadri += pow(d_x[i],2)\n",
    "        x_singoli += d_x[i]\n",
    "        d_singoli += d[i]\n",
    "        x_per_d += d[i]*d_x[i]\n",
    "\n",
    "    delta = N*x_quadri -pow(x_singoli,2)\n",
    "    a = (x_quadri*d_singoli-x_singoli*x_per_d)/delta\n",
    "    b = (N*x_per_d-x_singoli*d_singoli)/delta\n",
    "    errore_a = sigma_d*(x_quadri/delta)**0.5\n",
    "    errore_b = sigma_d*(N/delta)**0.5\n",
    "    x_min=(-a/b)\n",
    "    err_x=((errore_a/a)**2+(errore_b/b)**2)**0.5/x_min\n",
    "    output = 'Il minimo ha coordinata x ' + str(x_min) + '\\ned errore ' + str(err_x)\n",
    "    return (output)\n",
    "    \n",
    "    \n",
    "    "
   ]
  },
  {
   "cell_type": "markdown",
   "metadata": {},
   "source": [
    "# Scrittura su file"
   ]
  },
  {
   "cell_type": "code",
   "execution_count": 33,
   "metadata": {
    "scrolled": true
   },
   "outputs": [],
   "source": [
    "def scrittura(nome_file, contenuto):\n",
    "    ciao = nome_file\n",
    "    f = open(ciao, \"w\")\n",
    "    f.write(contenuto)\n",
    "    #f.read()\n",
    "    #f.readlines()\n",
    "    f.close()\n",
    "    f = open(nome_file, \"a\")\n",
    "    a_capo = \"\\n\"\n",
    "    f.write(a_capo)\n",
    "    f.close()\n",
    "def scrittura_aggiunta(nome_file, contenuto):\n",
    "    f = open(nome_file, \"a\")\n",
    "    f.write(contenuto)\n",
    "    a_capo = \"\\n\"\n",
    "    f.write(a_capo)\n",
    "    f.close()"
   ]
  },
  {
   "cell_type": "markdown",
   "metadata": {},
   "source": [
    "# Importare da Excel"
   ]
  },
  {
   "cell_type": "code",
   "execution_count": 34,
   "metadata": {
    "scrolled": true
   },
   "outputs": [],
   "source": [
    "import openpyxl\n",
    "def excel_import(nome_file:str, start, stop, col):\n",
    "    #excel_document = openpyxl.load_workbook('Guidovia.xlsx')\n",
    "    #sheet = excel_document.get_sheet_by_name('Foglio1')\n",
    "    nome_file += '.xlsx'\n",
    "    wb = openpyxl.load_workbook(nome_file)\n",
    "    sheets = wb.sheetnames\n",
    "    ws = wb[sheets[0]]\n",
    "    vettore = [] #array contenete le medie delle misure effettuate della variabile diretta.\n",
    "    for i in range(start, stop + 1):\n",
    "        casella = ws.cell(row=i, column=col)\n",
    "        vettore.append(casella.value) #aggiunge elementi al vettore (array)\n",
    "    return vettore"
   ]
  },
  {
   "cell_type": "markdown",
   "metadata": {},
   "source": [
    "# Leggi file"
   ]
  },
  {
   "cell_type": "code",
   "execution_count": 35,
   "metadata": {},
   "outputs": [],
   "source": [
    "def text(nome_file:str):\n",
    "    h = open(nome_file, 'r')\n",
    "    # Reading from the file\n",
    "    content = h.readlines()\n",
    "    # print(content)\n",
    "    h.close()\n",
    "    n = 0\n",
    "    x = []\n",
    "    y = []\n",
    "    for line in content:\n",
    "        if n==0:\n",
    "            N = line[0]\n",
    "        if n>0:\n",
    "            words = line.split()\n",
    "            if len(words):\n",
    "                x.append(words[0])\n",
    "                y.append(words[1])\n",
    "        n+=1\n",
    "    return(x,y)"
   ]
  }
 ],
 "metadata": {
  "celltoolbar": "Edit Metadata",
  "kernelspec": {
   "display_name": "Python 3",
   "language": "python",
   "name": "python3"
  },
  "language_info": {
   "codemirror_mode": {
    "name": "ipython",
    "version": 3
   },
   "file_extension": ".py",
   "mimetype": "text/x-python",
   "name": "python",
   "nbconvert_exporter": "python",
   "pygments_lexer": "ipython3",
   "version": "3.7.4"
  }
 },
 "nbformat": 4,
 "nbformat_minor": 2
}
